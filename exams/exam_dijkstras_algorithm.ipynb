{
 "cells": [
  {
   "cell_type": "markdown",
   "metadata": {},
   "source": [
    "## Dijkstra algorithm(6,++)\n",
    "\n",
    "Dijkstra's algorithm (or Dijkstra's Shortest Path First algorithm, SPF algorithm) is an algorithm for finding  the  shortest  paths  between  nodes  in  a  graph,  which may represent, for  example, road networks. It was conceived by computer scientist Edsger W. Dijkstra in 1956. The algorithm is available on Wikipedia and published in Dijkstra, E. W. (1959). \n",
    "\n",
    "Your task:\n",
    "1.  implement  this  algorithm  in python such that  it can  compute  the  shortest  path  between  two nodes  of  a  network  (you  have  to  find  a  way  to  express  the  connections  within  a  network  in terms of numpy arrays).\n",
    "2. Test the algorithm on three types of networks (that you need to generate): regular, small-world and random as described in Watts et al. (1998).\n",
    "3. plot histograms of the distribution of the shortest paths for the three networks. Make histograms and boxplots of the main statistics (mean and standard deviation).\n",
    "4. Evaluate the performance of the algorithm by testing it with array of increasing size.\n",
    "\n",
    "### Reference(s)\n",
    "\n",
    "Dijkstra, E. W. (1959). \"A note on two problems in connexion with graphs\". Numerische Mathematik. 1: 269–271. doi:10.1007/BF01386390.\n",
    "\n",
    "Watts,  Duncan  J.,  and  Steven  H.  Strogatz. (1998). \"Collective  dynamics  of  ‘small-world’networks.\" nature 393.6684: 440."
   ]
  },
  {
   "cell_type": "code",
   "execution_count": null,
   "metadata": {
    "collapsed": false,
    "jupyter": {
     "outputs_hidden": false
    }
   },
   "outputs": [],
   "source": []
  }
 ],
 "metadata": {
  "kernelspec": {
   "display_name": "Python 3 (ipykernel)",
   "language": "python",
   "name": "python3"
  },
  "language_info": {
   "codemirror_mode": {
    "name": "ipython",
    "version": 3
   },
   "file_extension": ".py",
   "mimetype": "text/x-python",
   "name": "python",
   "nbconvert_exporter": "python",
   "pygments_lexer": "ipython3",
   "version": "3.8.8"
  }
 },
 "nbformat": 4,
 "nbformat_minor": 4
}
