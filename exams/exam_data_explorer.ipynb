{
 "cells": [
  {
   "cell_type": "markdown",
   "source": [
    "# Load dataset penguins and analyze it\n",
    "\n",
    "[!] Do not do this exam if you have not tried any other exam yet for at least 2 hours.\n",
    "\n",
    "Use seaborn to load the penguins dataset and analyze it.\n",
    "\n",
    "Imagine you are a scientist who recorded the following features for a set of penguins:\n",
    "- species\n",
    "- sex\n",
    "- island\n",
    "- bill_length_mm\n",
    "- bill_depth_mm\n",
    "- flipper_length\n",
    "- body_mass_g\n",
    "\n",
    "Now you want to publish a paper about your findings and need to analyze the dataset first.\n",
    "For this you will have to:\n",
    "\n",
    "- Describe the dataset and its features.\n",
    "- Plot different aspects of the dataset. Do not use default plots, but customize them in a meaningful way.\n",
    "- Make at least 3 figures.\n",
    "- Write figure captions and use axis labels.\n",
    "- Do some basic but useful statistics on the dataset; i.e. compare groups in the dataset, find correlations, etc.\n",
    "\n",
    "Write a small report about your findings and submit it as a Jupyter notebook.\n",
    "What do these findings mean? What are the implications and conclusions of these findings? "
   ],
   "metadata": {
    "collapsed": false
   },
   "id": "ccea20b96128c58d"
  },
  {
   "cell_type": "code",
   "execution_count": null,
   "id": "initial_id",
   "metadata": {
    "collapsed": true
   },
   "outputs": [],
   "source": [
    "# Load dataset penguins\n",
    "import seaborn as sns\n",
    "ds = sns.load_dataset('penguins')"
   ]
  },
  {
   "cell_type": "code",
   "outputs": [],
   "source": [
    "ds.head()"
   ],
   "metadata": {
    "collapsed": false
   },
   "id": "e4e50149191a285a",
   "execution_count": null
  },
  {
   "cell_type": "code",
   "outputs": [],
   "source": [
    "# Add code here..."
   ],
   "metadata": {
    "collapsed": false
   },
   "id": "789a0fb4f6a0ece"
  }
 ],
 "metadata": {
  "kernelspec": {
   "display_name": "Python 3",
   "language": "python",
   "name": "python3"
  },
  "language_info": {
   "codemirror_mode": {
    "name": "ipython",
    "version": 2
   },
   "file_extension": ".py",
   "mimetype": "text/x-python",
   "name": "python",
   "nbconvert_exporter": "python",
   "pygments_lexer": "ipython2",
   "version": "2.7.6"
  }
 },
 "nbformat": 4,
 "nbformat_minor": 5
}
