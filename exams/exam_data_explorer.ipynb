{
 "cells": [
  {
   "cell_type": "markdown",
   "source": [
    "# Load dataset penguins and analyze it\n",
    "\n",
    "[!] Do not do this exam if you have not tried any other exam yet for at least 2 hours.\n",
    "\n",
    "Use seaborn to load the penguins dataset and analyze it.\n",
    "\n",
    "Imagine you are a scientist who recorded the following features for a set of penguins:\n",
    "- species\n",
    "- sex\n",
    "- island\n",
    "- bill_length_mm\n",
    "- bill_depth_mm\n",
    "- flipper_length\n",
    "- body_mass_g\n",
    "\n",
    "Now you want to publish a paper about your findings and need to analyze the dataset first.\n",
    "For this you will have to:\n",
    "\n",
    "- Describe the dataset and its features.\n",
    "- Plot different aspects of the dataset. Do not use default plots, but customize them in a meaningful way.\n",
    "- Make at least 3 figures.\n",
    "- Write figure captions and use axis labels.\n",
    "- Do some basic but useful statistics on the dataset; i.e. compare groups in the dataset, find correlations, etc.\n",
    "\n",
    "Write a small report about your findings and submit it as a Jupyter notebook.\n",
    "What do these findings mean? What are the implications and conclusions of these findings? "
   ],
   "metadata": {
    "collapsed": false
   },
   "id": "ccea20b96128c58d"
  },
  {
   "cell_type": "code",
   "execution_count": 1,
   "id": "initial_id",
   "metadata": {
    "collapsed": true,
    "ExecuteTime": {
     "end_time": "2024-03-01T10:22:42.614440Z",
     "start_time": "2024-03-01T10:22:42.585041Z"
    }
   },
   "outputs": [],
   "source": [
    "# Load dataset penguins\n",
    "import seaborn as sns\n",
    "ds = sns.load_dataset('penguins')"
   ]
  },
  {
   "cell_type": "code",
   "outputs": [
    {
     "data": {
      "text/plain": "  species     island  bill_length_mm  bill_depth_mm  flipper_length_mm  \\\n0  Adelie  Torgersen            39.1           18.7              181.0   \n1  Adelie  Torgersen            39.5           17.4              186.0   \n2  Adelie  Torgersen            40.3           18.0              195.0   \n3  Adelie  Torgersen             NaN            NaN                NaN   \n4  Adelie  Torgersen            36.7           19.3              193.0   \n\n   body_mass_g     sex  \n0       3750.0    Male  \n1       3800.0  Female  \n2       3250.0  Female  \n3          NaN     NaN  \n4       3450.0  Female  ",
      "text/html": "<div>\n<style scoped>\n    .dataframe tbody tr th:only-of-type {\n        vertical-align: middle;\n    }\n\n    .dataframe tbody tr th {\n        vertical-align: top;\n    }\n\n    .dataframe thead th {\n        text-align: right;\n    }\n</style>\n<table border=\"1\" class=\"dataframe\">\n  <thead>\n    <tr style=\"text-align: right;\">\n      <th></th>\n      <th>species</th>\n      <th>island</th>\n      <th>bill_length_mm</th>\n      <th>bill_depth_mm</th>\n      <th>flipper_length_mm</th>\n      <th>body_mass_g</th>\n      <th>sex</th>\n    </tr>\n  </thead>\n  <tbody>\n    <tr>\n      <th>0</th>\n      <td>Adelie</td>\n      <td>Torgersen</td>\n      <td>39.1</td>\n      <td>18.7</td>\n      <td>181.0</td>\n      <td>3750.0</td>\n      <td>Male</td>\n    </tr>\n    <tr>\n      <th>1</th>\n      <td>Adelie</td>\n      <td>Torgersen</td>\n      <td>39.5</td>\n      <td>17.4</td>\n      <td>186.0</td>\n      <td>3800.0</td>\n      <td>Female</td>\n    </tr>\n    <tr>\n      <th>2</th>\n      <td>Adelie</td>\n      <td>Torgersen</td>\n      <td>40.3</td>\n      <td>18.0</td>\n      <td>195.0</td>\n      <td>3250.0</td>\n      <td>Female</td>\n    </tr>\n    <tr>\n      <th>3</th>\n      <td>Adelie</td>\n      <td>Torgersen</td>\n      <td>NaN</td>\n      <td>NaN</td>\n      <td>NaN</td>\n      <td>NaN</td>\n      <td>NaN</td>\n    </tr>\n    <tr>\n      <th>4</th>\n      <td>Adelie</td>\n      <td>Torgersen</td>\n      <td>36.7</td>\n      <td>19.3</td>\n      <td>193.0</td>\n      <td>3450.0</td>\n      <td>Female</td>\n    </tr>\n  </tbody>\n</table>\n</div>"
     },
     "execution_count": 2,
     "metadata": {},
     "output_type": "execute_result"
    }
   ],
   "source": [
    "ds.head()"
   ],
   "metadata": {
    "collapsed": false,
    "ExecuteTime": {
     "end_time": "2024-03-01T10:22:42.646237Z",
     "start_time": "2024-03-01T10:22:42.616770Z"
    }
   },
   "id": "e4e50149191a285a",
   "execution_count": 2
  },
  {
   "cell_type": "code",
   "outputs": [],
   "source": [
    "# Add code here..."
   ],
   "metadata": {
    "collapsed": false,
    "ExecuteTime": {
     "end_time": "2024-03-01T10:22:42.660983Z",
     "start_time": "2024-03-01T10:22:42.648407Z"
    }
   },
   "id": "789a0fb4f6a0ece",
   "execution_count": 3
  }
 ],
 "metadata": {
  "kernelspec": {
   "display_name": "Python 3",
   "language": "python",
   "name": "python3"
  },
  "language_info": {
   "codemirror_mode": {
    "name": "ipython",
    "version": 2
   },
   "file_extension": ".py",
   "mimetype": "text/x-python",
   "name": "python",
   "nbconvert_exporter": "python",
   "pygments_lexer": "ipython2",
   "version": "2.7.6"
  }
 },
 "nbformat": 4,
 "nbformat_minor": 5
}
