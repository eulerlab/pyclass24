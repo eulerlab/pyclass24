{
 "cells": [
  {
   "cell_type": "code",
   "execution_count": 1,
   "metadata": {
    "collapsed": true
   },
   "outputs": [],
   "source": [
    "import numpy as np"
   ]
  },
  {
   "cell_type": "markdown",
   "source": [
    "# Existing data\n",
    "\n",
    "We randomly generated data with shapes (100, 3).\n",
    "Assume these are 100 samples from 3 groups.\n",
    "Each sample has a value (float) stored in \"data.npy\" and a name (string) stored in \"names.npy\".\n",
    "\n",
    "In one group, there were fewer samples, and the matrices have been filled with NaNs (data) and empty strings (names).\n",
    "\n",
    "The NaNs and respective names (see above) are to be ignored in all tasks.\n",
    "For example, you can use \"np.nanmean\" instead of \"np.mean\" to automatically ignore NaNs"
   ],
   "metadata": {
    "collapsed": false
   }
  },
  {
   "cell_type": "code",
   "execution_count": 2,
   "outputs": [],
   "source": [
    "%run ../create_dataset.py"
   ],
   "metadata": {
    "collapsed": false
   }
  },
  {
   "cell_type": "code",
   "execution_count": 3,
   "outputs": [],
   "source": [
    "# Load data\n",
    "dat = np.load('data.npy')\n",
    "nam = np.load('names.npy')"
   ],
   "metadata": {
    "collapsed": false
   }
  },
  {
   "cell_type": "markdown",
   "source": [
    "print the shapes and data types of both arrays"
   ],
   "metadata": {
    "collapsed": false
   }
  },
  {
   "cell_type": "code",
   "execution_count": 4,
   "outputs": [
    {
     "name": "stdout",
     "output_type": "stream",
     "text": [
      "(100, 3) (100, 3)\n",
      "float64 <U10\n"
     ]
    }
   ],
   "source": [
    "print(dat.shape, nam.shape)\n",
    "print(dat.dtype, nam.dtype)"
   ],
   "metadata": {
    "collapsed": false
   }
  },
  {
   "cell_type": "markdown",
   "source": [
    "compute the means of all 3 groups, ignore NaNs"
   ],
   "metadata": {
    "collapsed": false
   }
  },
  {
   "cell_type": "code",
   "execution_count": 5,
   "outputs": [
    {
     "name": "stdout",
     "output_type": "stream",
     "text": [
      "[3.47492401 3.26197478 5.00776356]\n"
     ]
    }
   ],
   "source": [
    "print(np.nanmean(dat, axis=0))"
   ],
   "metadata": {
    "collapsed": false
   }
  },
  {
   "cell_type": "markdown",
   "source": [
    "compute the means of all 3 groups, but ignore the first 10 and last 10 samples of each group"
   ],
   "metadata": {
    "collapsed": false
   }
  },
  {
   "cell_type": "code",
   "execution_count": 6,
   "outputs": [
    {
     "name": "stdout",
     "output_type": "stream",
     "text": [
      "[3.44301436 3.37304391 5.13376312]\n",
      "[3.44301436 3.37304391 5.13376312]\n",
      "[3.44301436 3.37304391 5.13376312]\n",
      "[3.44301436 3.37304391 5.13376312]\n",
      "[3.44301436 3.37304391 5.13376312]\n",
      "[3.44301436 3.37304391 5.13376312]\n"
     ]
    }
   ],
   "source": [
    "# All of these solutions give the same result\n",
    "\n",
    "# These are some basic indexing approaches\n",
    "print(np.nanmean(dat[10:-10], axis=0))\n",
    "print(np.nanmean(dat[10:90], axis=0))\n",
    "print(np.mean(dat[10:90], axis=0))\n",
    "print(np.mean(dat[10:90, :], axis=0))\n",
    "\n",
    "# You could also loop through the groups, but this is less efficient and often harder to read:\n",
    "group_means = []\n",
    "for i in range(3):\n",
    "    group = dat[:, i]\n",
    "    group_mean = np.nanmean(group[10:-10])\n",
    "    group_means.append(group_mean)\n",
    "\n",
    "print(np.array(group_means))\n",
    "\n",
    "# A better way of looping would be this\n",
    "group_means = []\n",
    "for group in dat.T:  # Here we need to transpose the array with .T to have the groups being the first and not second axis\n",
    "    group_mean = np.nanmean(group[10:-10])\n",
    "    group_means.append(group_mean)\n",
    "\n",
    "print(np.array(group_means))"
   ],
   "metadata": {
    "collapsed": false
   }
  },
  {
   "cell_type": "markdown",
   "source": [
    "compute the standard deviations and standard errors of all 3 groups"
   ],
   "metadata": {
    "collapsed": false
   }
  },
  {
   "cell_type": "code",
   "execution_count": 7,
   "outputs": [
    {
     "name": "stdout",
     "output_type": "stream",
     "text": [
      "[1.00901517 1.13680361 3.38084201]\n",
      "[0.01009015 0.01136804 0.03756491]\n"
     ]
    }
   ],
   "source": [
    "print(np.nanstd(dat, axis=0))\n",
    "print(np.nanstd(dat, axis=0) / np.sum(np.isfinite(dat), axis=0))"
   ],
   "metadata": {
    "collapsed": false
   }
  },
  {
   "cell_type": "markdown",
   "source": [
    "find the maximum for each group, and the maximum value across all groups"
   ],
   "metadata": {
    "collapsed": false
   }
  },
  {
   "cell_type": "code",
   "execution_count": 8,
   "outputs": [
    {
     "name": "stdout",
     "output_type": "stream",
     "text": [
      "[ 6.05934755  5.01575281 16.55819447]\n",
      "16.558194471964164\n"
     ]
    }
   ],
   "source": [
    "print(np.nanmax(dat, axis=0))\n",
    "print(np.nanmax(dat))"
   ],
   "metadata": {
    "collapsed": false
   }
  },
  {
   "cell_type": "markdown",
   "source": [
    "create a new array with the same shape and sorted values of each group in descending order (NaNs, come last).\n",
    "\n",
    "optional: sort the names of each group respectively"
   ],
   "metadata": {
    "collapsed": false
   }
  },
  {
   "cell_type": "code",
   "execution_count": 9,
   "outputs": [
    {
     "data": {
      "text/plain": "<Figure size 640x480 with 1 Axes>",
      "image/png": "[encoded data removed]"
     },
     "metadata": {},
     "output_type": "display_data"
    }
   ],
   "source": [
    "from matplotlib import pyplot as plt\n",
    "\n",
    "dat_sorted = np.sort(dat, axis=0)\n",
    "\n",
    "plt.plot(dat_sorted)\n",
    "plt.show()"
   ],
   "metadata": {
    "collapsed": false
   }
  },
  {
   "cell_type": "code",
   "execution_count": 10,
   "outputs": [
    {
     "data": {
      "text/plain": "<Figure size 640x480 with 1 Axes>",
      "image/png": "[encoded data removed]"
     },
     "metadata": {},
     "output_type": "display_data"
    }
   ],
   "source": [
    "# again you can alternative loop through the groups. You can create a dummy table (to allocate memory) and fill it with the values you want\n",
    "dat_sorted_alternative = np.zeros(shape=dat.shape)\n",
    "\n",
    "for i in range(3):\n",
    "    group = dat[:, i]\n",
    "    group_sorted = np.sort(group)\n",
    "    dat_sorted_alternative[:, i] = group_sorted\n",
    "\n",
    "plt.plot(dat_sorted_alternative)\n",
    "plt.show()"
   ],
   "metadata": {
    "collapsed": false
   }
  },
  {
   "cell_type": "code",
   "execution_count": 11,
   "outputs": [
    {
     "data": {
      "text/plain": "<Figure size 640x480 with 1 Axes>",
      "image/png": "[encoded data removed]"
     },
     "metadata": {},
     "output_type": "display_data"
    }
   ],
   "source": [
    "# if we want to solve the optional task, we have to get the indexes that would sort the array\n",
    "sort_idx = np.argsort(dat, axis=0)\n",
    "dat_sorted_alt = np.take_along_axis(dat, sort_idx, axis=0)  # This gives the same result as calling np.sort(dat, axis=1)\n",
    "nam_sorted_alt = np.take_along_axis(dat, sort_idx, axis=0)\n",
    "plt.plot(dat_sorted_alt);"
   ],
   "metadata": {
    "collapsed": false
   }
  },
  {
   "cell_type": "markdown",
   "source": [
    "find the name of the sample with the largest value"
   ],
   "metadata": {
    "collapsed": false
   }
  },
  {
   "cell_type": "code",
   "execution_count": 12,
   "outputs": [
    {
     "name": "stdout",
     "output_type": "stream",
     "text": [
      "akctwzdrwf\n"
     ]
    }
   ],
   "source": [
    "# This is an elegant way to do it, but unravel_index is not very intuitive\n",
    "print(nam[np.unravel_index(np.nanargmax(dat), dat.shape)])"
   ],
   "metadata": {
    "collapsed": false
   }
  },
  {
   "cell_type": "code",
   "execution_count": 13,
   "outputs": [
    {
     "name": "stdout",
     "output_type": "stream",
     "text": [
      "akctwzdrwf\n"
     ]
    }
   ],
   "source": [
    "# An easier way would be to flatten the array (i.e. make it 1d)\n",
    "dat_flat = dat.flatten()\n",
    "idx_of_largest_value = np.nanargmax(dat_flat)\n",
    "\n",
    "# No we also need to flatten the names to be able to apply the array (without unraveling)\n",
    "nam_flat = nam.flatten()\n",
    "print(nam_flat[idx_of_largest_value]) # This gives the same value"
   ],
   "metadata": {
    "collapsed": false
   }
  },
  {
   "cell_type": "markdown",
   "source": [
    "for the first group, find all values smaller than 3"
   ],
   "metadata": {
    "collapsed": false
   }
  },
  {
   "cell_type": "code",
   "execution_count": 14,
   "outputs": [
    {
     "name": "stdout",
     "output_type": "stream",
     "text": [
      "[2.66489884 2.25222798 2.68643754 2.61753526 2.0756076  2.47605891\n",
      " 2.8787492  2.9707586  2.76501258 1.91339866 2.56546273 2.37037478\n",
      " 2.94835993 2.93009726 1.94554452 1.67486179 2.15470677 2.73570577\n",
      " 2.07020941 1.76892879 2.36167098 1.5450703  1.70275947 2.41284671\n",
      " 2.48148311 2.38938589 2.77011544 2.75890823 1.6422777  2.87846908\n",
      " 1.0528279  2.7483345 ]\n"
     ]
    }
   ],
   "source": [
    "# in one line\n",
    "print(dat[:, 0][dat[:, 0] < 3])"
   ],
   "metadata": {
    "collapsed": false
   }
  },
  {
   "cell_type": "code",
   "execution_count": 15,
   "outputs": [
    {
     "name": "stdout",
     "output_type": "stream",
     "text": [
      "[2.66489884 2.25222798 2.68643754 2.61753526 2.0756076  2.47605891\n",
      " 2.8787492  2.9707586  2.76501258 1.91339866 2.56546273 2.37037478\n",
      " 2.94835993 2.93009726 1.94554452 1.67486179 2.15470677 2.73570577\n",
      " 2.07020941 1.76892879 2.36167098 1.5450703  1.70275947 2.41284671\n",
      " 2.48148311 2.38938589 2.77011544 2.75890823 1.6422777  2.87846908\n",
      " 1.0528279  2.7483345 ]\n"
     ]
    }
   ],
   "source": [
    "# or more readable, but with same result\n",
    "group1 = dat[:, 0]\n",
    "small_values = group1[dat[:, 0] < 3]\n",
    "print(small_values)"
   ],
   "metadata": {
    "collapsed": false
   }
  },
  {
   "cell_type": "markdown",
   "source": [
    "for all groups, find all names that start with an a. put them all in a single array"
   ],
   "metadata": {
    "collapsed": false
   }
  },
  {
   "cell_type": "code",
   "execution_count": 16,
   "outputs": [
    {
     "name": "stdout",
     "output_type": "stream",
     "text": [
      "['atgdfyaewa' 'abaaimamtz' 'aglquzxted' 'aczhdpwjln' 'aiypmiumik'\n",
      " 'awreoqclba' 'awrmbiubyi' 'akctwzdrwf' 'ajrzhukwbh' 'amsxcxqetu']\n"
     ]
    }
   ],
   "source": [
    "# in one line\n",
    "res = np.array([n for n in nam.flat if n.startswith('a')])\n",
    "print(res)"
   ],
   "metadata": {
    "collapsed": false
   }
  },
  {
   "cell_type": "code",
   "execution_count": 17,
   "outputs": [
    {
     "name": "stdout",
     "output_type": "stream",
     "text": [
      "['atgdfyaewa' 'abaaimamtz' 'aglquzxted' 'aczhdpwjln' 'aiypmiumik'\n",
      " 'awreoqclba' 'awrmbiubyi' 'akctwzdrwf' 'ajrzhukwbh' 'amsxcxqetu']\n"
     ]
    }
   ],
   "source": [
    "# The same with more lines of code:\n",
    "res = []\n",
    "for n in nam.flat:\n",
    "    if n.startswith('a'):\n",
    "        res.append(n)\n",
    "\n",
    "res = np.array(res)  # Let's make an array from the list\n",
    "print(res)"
   ],
   "metadata": {
    "collapsed": false
   }
  },
  {
   "cell_type": "markdown",
   "source": [
    "create a new array where the dimensions are swapped. print the shape."
   ],
   "metadata": {
    "collapsed": false
   }
  },
  {
   "cell_type": "code",
   "execution_count": 18,
   "outputs": [
    {
     "data": {
      "text/plain": "(3, 100)"
     },
     "execution_count": 18,
     "metadata": {},
     "output_type": "execute_result"
    }
   ],
   "source": [
    "dat_new = dat.T\n",
    "dat_new.shape"
   ],
   "metadata": {
    "collapsed": false
   }
  },
  {
   "cell_type": "code",
   "execution_count": 19,
   "outputs": [
    {
     "data": {
      "text/plain": "(3, 100)"
     },
     "execution_count": 19,
     "metadata": {},
     "output_type": "execute_result"
    }
   ],
   "source": [
    "# The same with a different method\n",
    "dat_new = np.swapaxes(dat, axis1=0, axis2=1)\n",
    "dat_new.shape"
   ],
   "metadata": {
    "collapsed": false
   }
  },
  {
   "cell_type": "markdown",
   "source": [
    "create a new array from data where every 2nd sample per group is removed. print the shape."
   ],
   "metadata": {
    "collapsed": false
   }
  },
  {
   "cell_type": "code",
   "execution_count": 20,
   "outputs": [
    {
     "name": "stdout",
     "output_type": "stream",
     "text": [
      "(50, 3)\n"
     ]
    }
   ],
   "source": [
    "dat_new = dat[::2, :]\n",
    "print(dat_new.shape)"
   ],
   "metadata": {
    "collapsed": false
   }
  },
  {
   "cell_type": "markdown",
   "source": [
    "find the value of the sample with most a's in the name. find all if multiple exist"
   ],
   "metadata": {
    "collapsed": false
   }
  },
  {
   "cell_type": "code",
   "execution_count": 21,
   "outputs": [
    {
     "name": "stdout",
     "output_type": "stream",
     "text": [
      "[4 3 3 2 2 2 2 2 2 2 2 2 1 1 1 1 1 1 1 1 1 1 1 1 1 1 1 1 1 1 1 1 1 1 1 1 1\n",
      " 1 1 1 1 1 1 1 1 1 1 1 1 1 1 1 1 1 1 1 1 1 1 1 1 1 1 1 1 1 1 1 1 1 1 1 1 1\n",
      " 1 1 1 1 1 1 1 1 1 1 1 1 1 1 1 0 0 0 0 0 0 0 0 0 0 0 0 0 0 0 0 0 0 0 0 0 0\n",
      " 0 0 0 0 0 0 0 0 0 0 0 0 0 0 0 0 0 0 0 0 0 0 0 0 0 0 0 0 0 0 0 0 0 0 0 0 0\n",
      " 0 0 0 0 0 0 0 0 0 0 0 0 0 0 0 0 0 0 0 0 0 0 0 0 0 0 0 0 0 0 0 0 0 0 0 0 0\n",
      " 0 0 0 0 0 0 0 0 0 0 0 0 0 0 0 0 0 0 0 0 0 0 0 0 0 0 0 0 0 0 0 0 0 0 0 0 0\n",
      " 0 0 0 0 0 0 0 0 0 0 0 0 0 0 0 0 0 0 0 0 0 0 0 0 0 0 0 0 0 0 0 0 0 0 0 0 0\n",
      " 0 0 0 0 0 0 0 0 0 0 0 0 0 0 0 0 0 0 0 0 0 0 0 0 0 0 0 0 0 0 0 0 0 0 0 0 0\n",
      " 0 0 0 0]\n"
     ]
    }
   ],
   "source": [
    "# There is only one, that's good, then we can use argmax with only return the index of the first encountered largest value\n",
    "print(np.sort([n.count('a') for n in nam.flat])[::-1])"
   ],
   "metadata": {
    "collapsed": false
   }
  },
  {
   "cell_type": "code",
   "execution_count": 22,
   "outputs": [
    {
     "name": "stdout",
     "output_type": "stream",
     "text": [
      "146\n",
      "abaaimamtz\n",
      "(48, 2)\n",
      "abaaimamtz\n"
     ]
    }
   ],
   "source": [
    "index_in_flat_array = np.argmax([n.count('a') for n in nam.flat])\n",
    "print(index_in_flat_array)\n",
    "\n",
    "# You can either use the index of the respective flattened array directly\n",
    "print(nam.flat[index_in_flat_array])\n",
    "\n",
    "# Or instead you could translate this back to a 2d index using unravel and then index the original array\n",
    "index_in_2d_array = np.unravel_index(index_in_flat_array, nam.shape)\n",
    "print(index_in_2d_array)\n",
    "\n",
    "# This gives the same result:\n",
    "print(nam[index_in_2d_array])"
   ],
   "metadata": {
    "collapsed": false
   }
  },
  {
   "cell_type": "markdown",
   "source": [
    "implement three ways to index the 90th sample of the second group"
   ],
   "metadata": {
    "collapsed": false
   }
  },
  {
   "cell_type": "code",
   "execution_count": 23,
   "outputs": [
    {
     "name": "stdout",
     "output_type": "stream",
     "text": [
      "2.7843766823035954\n",
      "2.7843766823035954\n",
      "2.7843766823035954\n"
     ]
    }
   ],
   "source": [
    "print(dat[89, 1])\n",
    "print(dat[-11, 1])\n",
    "print(dat[-11, -2])"
   ],
   "metadata": {
    "collapsed": false
   }
  },
  {
   "cell_type": "markdown",
   "source": [
    "# New data"
   ],
   "metadata": {
    "collapsed": false
   }
  },
  {
   "cell_type": "markdown",
   "source": [
    "create an array with all even number between 0 and 100, sorted from highest to lowest"
   ],
   "metadata": {
    "collapsed": false
   }
  },
  {
   "cell_type": "code",
   "execution_count": 24,
   "outputs": [
    {
     "name": "stdout",
     "output_type": "stream",
     "text": [
      "[100  98  96  94  92  90  88  86  84  82  80  78  76  74  72  70  68  66\n",
      "  64  62  60  58  56  54  52  50  48  46  44  42  40  38  36  34  32  30\n",
      "  28  26  24  22  20  18  16  14  12  10   8   6   4   2   0]\n"
     ]
    }
   ],
   "source": [
    "print(np.arange(0, 101, 2)[::-1]) # This works"
   ],
   "metadata": {
    "collapsed": false
   }
  },
  {
   "cell_type": "code",
   "execution_count": 25,
   "outputs": [
    {
     "name": "stdout",
     "output_type": "stream",
     "text": [
      "[100  98  96  94  92  90  88  86  84  82  80  78  76  74  72  70  68  66\n",
      "  64  62  60  58  56  54  52  50  48  46  44  42  40  38  36  34  32  30\n",
      "  28  26  24  22  20  18  16  14  12  10   8   6   4   2   0]\n"
     ]
    }
   ],
   "source": [
    "print(np.arange(100, -1, -2)) # But this is probably better, using negative steps"
   ],
   "metadata": {
    "collapsed": false
   }
  },
  {
   "cell_type": "markdown",
   "source": [
    "draw 1000 samples from a normal distribution with mean=0.5 and stddev=1.3, then drop all values larger than 3 or smaller than -3"
   ],
   "metadata": {
    "collapsed": false
   }
  },
  {
   "cell_type": "code",
   "execution_count": 26,
   "outputs": [
    {
     "data": {
      "text/plain": "<Figure size 640x480 with 1 Axes>",
      "image/png": "[encoded data removed]"
     },
     "metadata": {},
     "output_type": "display_data"
    }
   ],
   "source": [
    "dist = np.random.normal(0.5, 1.3, 1000)\n",
    "dist = dist[np.abs(dist) < 3]\n",
    "plt.hist(dist); # Just for illustration"
   ],
   "metadata": {
    "collapsed": false
   }
  },
  {
   "cell_type": "markdown",
   "source": [
    "draw samples from a bionomial distribution with n=10, p=0.5 and shape (20, 3, 4)"
   ],
   "metadata": {
    "collapsed": false
   }
  },
  {
   "cell_type": "code",
   "execution_count": 27,
   "outputs": [
    {
     "data": {
      "text/plain": "array([[[ 7,  4,  6,  4],\n        [ 6,  9,  2,  7],\n        [ 5,  8,  5,  7]],\n\n       [[ 3,  4,  3,  8],\n        [ 6,  7,  7,  3],\n        [ 5,  3,  4,  4]],\n\n       [[ 5,  4,  3,  3],\n        [ 3,  8,  6,  8],\n        [ 5,  4,  6,  4]],\n\n       [[ 4,  4,  3,  4],\n        [ 4,  6,  3,  4],\n        [ 6,  3,  4,  7]],\n\n       [[ 3,  3,  5,  4],\n        [ 5,  6,  3,  5],\n        [ 5,  3,  6,  4]],\n\n       [[ 5,  3,  5,  4],\n        [ 6,  3,  5,  5],\n        [ 6,  5,  6,  6]],\n\n       [[ 7,  4,  5,  7],\n        [ 9,  7,  4,  4],\n        [ 5,  6,  5,  5]],\n\n       [[ 7,  4,  7,  5],\n        [ 4,  5,  6,  3],\n        [ 4,  8,  4,  5]],\n\n       [[ 5,  5,  6,  4],\n        [ 5,  4,  6,  3],\n        [ 5,  4,  4,  4]],\n\n       [[ 4,  6,  4,  7],\n        [ 8,  5,  3,  4],\n        [ 6,  4,  3,  5]],\n\n       [[ 7,  6,  4,  6],\n        [ 4,  4,  7,  4],\n        [ 4,  0,  7,  6]],\n\n       [[ 6,  6,  3,  5],\n        [ 4,  3,  5,  7],\n        [ 2,  4,  4,  4]],\n\n       [[ 7,  5,  5,  6],\n        [ 3,  5,  5,  5],\n        [10,  6,  5,  6]],\n\n       [[ 3,  2,  4,  4],\n        [ 5,  5,  7,  5],\n        [ 5,  2,  2,  5]],\n\n       [[ 5,  7,  3,  2],\n        [ 5,  4,  2,  6],\n        [ 3,  5,  4,  4]],\n\n       [[ 5,  6,  5,  6],\n        [ 3,  6,  4,  6],\n        [ 5,  7,  5,  3]],\n\n       [[ 2,  6,  5,  6],\n        [ 4,  4,  2,  8],\n        [ 6,  7,  4,  5]],\n\n       [[ 6,  4,  7,  8],\n        [ 7,  6,  4,  4],\n        [ 8,  1,  6,  6]],\n\n       [[ 5,  9,  4,  4],\n        [ 3,  5,  4,  4],\n        [ 7,  7,  4,  4]],\n\n       [[ 7,  3,  3,  3],\n        [ 5,  3,  8,  5],\n        [ 5,  4,  5,  6]]])"
     },
     "execution_count": 27,
     "metadata": {},
     "output_type": "execute_result"
    }
   ],
   "source": [
    "np.random.binomial(n=10, p=0.5, size=(20, 3, 4))"
   ],
   "metadata": {
    "collapsed": false
   }
  },
  {
   "cell_type": "markdown",
   "source": [
    "# More complex data\n",
    "\n",
    "This dataset contains sample from three different plants.\n",
    "Each sample has 4 attributes (floats), stored in X, and a class / plant index, stored in y.\n",
    "\n",
    "The attributes in X are:\n",
    "- sepal length in cm\n",
    "- sepal width in cm\n",
    "- petal length in cm\n",
    "- petal width in cm\n",
    "\n",
    "The classes in y refer to:\n",
    "0: Iris-Setosa\n",
    "1: Iris-Versicolour\n",
    "2: Iris-Virginica"
   ],
   "metadata": {
    "collapsed": false
   }
  },
  {
   "cell_type": "code",
   "execution_count": 28,
   "outputs": [],
   "source": [
    "from sklearn.datasets import load_iris\n",
    "\n",
    "X, y = load_iris(as_frame=False, return_X_y=True)"
   ],
   "metadata": {
    "collapsed": false
   }
  },
  {
   "cell_type": "markdown",
   "source": [
    "Describe the data.\n",
    "\n",
    "Start with counting the number of samples per class (plant index)."
   ],
   "metadata": {
    "collapsed": false
   }
  },
  {
   "cell_type": "code",
   "execution_count": 29,
   "outputs": [
    {
     "data": {
      "text/plain": "(150, 4)"
     },
     "execution_count": 29,
     "metadata": {},
     "output_type": "execute_result"
    }
   ],
   "source": [
    "X.shape"
   ],
   "metadata": {
    "collapsed": false
   }
  },
  {
   "cell_type": "code",
   "execution_count": 30,
   "outputs": [
    {
     "data": {
      "text/plain": "(array([0, 1, 2]), array([50, 50, 50], dtype=int64))"
     },
     "execution_count": 30,
     "metadata": {},
     "output_type": "execute_result"
    }
   ],
   "source": [
    "np.unique(y, return_counts=True)"
   ],
   "metadata": {
    "collapsed": false
   }
  },
  {
   "cell_type": "markdown",
   "source": [
    "Summarize the distributions of all 3 classes, e.g. compute means etc."
   ],
   "metadata": {
    "collapsed": false
   }
  },
  {
   "cell_type": "code",
   "execution_count": 31,
   "outputs": [
    {
     "name": "stdout",
     "output_type": "stream",
     "text": [
      "0\n",
      "[5.006 3.428 1.462 0.246]\n",
      "[0.34894699 0.37525458 0.17191859 0.10432641]\n",
      "\n",
      "1\n",
      "[5.936 2.77  4.26  1.326]\n",
      "[0.51098337 0.31064449 0.46518813 0.19576517]\n",
      "\n",
      "2\n",
      "[6.588 2.974 5.552 2.026]\n",
      "[0.62948868 0.31925538 0.54634787 0.27188968]\n",
      "\n"
     ]
    }
   ],
   "source": [
    "for i in range(3):\n",
    "    print(i)\n",
    "    print(np.mean(X[y==i, :], axis=0))\n",
    "    print(np.std(X[y==i, :], axis=0))\n",
    "    print()"
   ],
   "metadata": {
    "collapsed": false
   }
  },
  {
   "cell_type": "markdown",
   "source": [
    "# Advanced"
   ],
   "metadata": {
    "collapsed": false
   }
  },
  {
   "cell_type": "markdown",
   "source": [
    "Define a function that generates an array of unsigned integers between 0 and 10 of size=(50, 100), i.e. 50 rows and 100 columns."
   ],
   "metadata": {
    "collapsed": false
   }
  },
  {
   "cell_type": "code",
   "execution_count": 32,
   "outputs": [],
   "source": [
    "# Enter code:\n",
    "def sample_test_arr():\n",
    "    test_arr = np.random.randint(0, 10, size=(50, 100), dtype=np.uint)\n",
    "    return test_arr"
   ],
   "metadata": {
    "collapsed": false
   }
  },
  {
   "cell_type": "markdown",
   "source": [
    "Implement the following function that finds all rows in this array containing any number at least x times, where x is an integer parameter.\n",
    "The array itself should also be a parameter.\n",
    "The return value is an again a 2d array with same dtype, same number of rows, but with potentially fewer columns.\n",
    "\n",
    "Test the function on the test_arr defined above.\n",
    "\n",
    "For example, if x=3:\n",
    "- [0, 1, 1, 2, 1, 3, 4] would be included.\n",
    "- [0, 1, 2, 2, 1, 3, 1] would be included.\n",
    "- [0, 1, 2, 2, 1, 3, 3] would not be included.\n",
    "\n",
    "Make sure no error is raised and the returned shape and data-type is always correct."
   ],
   "metadata": {
    "collapsed": false
   }
  },
  {
   "cell_type": "code",
   "execution_count": 33,
   "outputs": [
    {
     "data": {
      "text/plain": "<Figure size 640x480 with 1 Axes>",
      "image/png": "[encoded data removed]"
     },
     "metadata": {},
     "output_type": "display_data"
    }
   ],
   "source": [
    "test_arr = sample_test_arr()\n",
    "plt.plot(np.sort(test_arr, axis=0));"
   ],
   "metadata": {
    "collapsed": false
   }
  },
  {
   "cell_type": "code",
   "execution_count": 34,
   "outputs": [
    {
     "name": "stdout",
     "output_type": "stream",
     "text": [
      "(50, 100)\n",
      "(22, 100)\n",
      "(0, 100)\n"
     ]
    }
   ],
   "source": [
    "def find_all_rows_with_n_reps(arr: np.ndarray, x: int) -> np.ndarray:\n",
    "    \"\"\"Find all rows in 2d array where a single value is repeated at least x times, where x is given by the user.\n",
    "    :param arr: 2d numpy array\n",
    "    :param x: number of minimum counts of unique value per row\n",
    "    :return: 2d numpy array, as arr, but with filtered rows\n",
    "    \"\"\"\n",
    "    rows = []\n",
    "\n",
    "    for row in arr:\n",
    "        assert row.size == 100\n",
    "        vs, cs = np.unique(row, return_counts=True)\n",
    "\n",
    "        if cs.max() > x:\n",
    "            rows.append(row)\n",
    "    if len(rows) > 0:\n",
    "        return np.vstack(rows)\n",
    "    else:\n",
    "        return np.zeros((0, 100), dtype=arr.dtype)\n",
    "\n",
    "test_arr = sample_test_arr()\n",
    "print(find_all_rows_with_n_reps(arr=test_arr, x=5).shape)\n",
    "print(find_all_rows_with_n_reps(arr=test_arr, x=15).shape)\n",
    "print(find_all_rows_with_n_reps(arr=test_arr, x=30).shape)"
   ],
   "metadata": {
    "collapsed": false
   }
  },
  {
   "cell_type": "markdown",
   "source": [
    "Additional task:\n",
    "\n",
    "- Write a doc-string for the function find_all_rows_with_n_reps."
   ],
   "metadata": {
    "collapsed": false
   }
  },
  {
   "cell_type": "markdown",
   "source": [
    "Reimplement the function again, but now the repetitions must happen consecutively in each row.\n",
    "\n",
    "For example, if x=3:\n",
    "- [0, 1, 1, 2, 1, 3, 4] would be included.\n",
    "- [0, 1, 2, 2, 1, 3, 1] would not be included.\n",
    "- [0, 1, 2, 2, 1, 3, 3] would not be included.\n",
    "\n",
    "Test the function on the test_arr defined above."
   ],
   "metadata": {
    "collapsed": false
   }
  },
  {
   "cell_type": "code",
   "execution_count": 35,
   "outputs": [
    {
     "name": "stdout",
     "output_type": "stream",
     "text": [
      "(50, 100)\n",
      "(30, 100)\n",
      "(2, 100)\n",
      "(0, 100)\n"
     ]
    }
   ],
   "source": [
    "def find_maximum_length(row):\n",
    "    diffs = np.abs(np.diff(row))\n",
    "    diffs = np.append(1, diffs)\n",
    "    diffs = np.append(diffs, 1)\n",
    "    return np.max(np.abs(np.diff(np.where(diffs > 0)[0])))\n",
    "\n",
    "\n",
    "def find_all_rows_with_n_consecutive_reps(arr, x):\n",
    "    rows = []\n",
    "\n",
    "    for row in arr:\n",
    "        assert row.size == 100\n",
    "        max_l = find_maximum_length(row)\n",
    "        if max_l > x:\n",
    "            rows.append(row)\n",
    "    if len(rows) > 0:\n",
    "        return np.vstack(rows)\n",
    "    else:\n",
    "        return np.zeros((0, 100), dtype=arr.dtype)\n",
    "\n",
    "\n",
    "test_arr = sample_test_arr()\n",
    "print(find_all_rows_with_n_consecutive_reps(arr=test_arr, x=1).shape)\n",
    "print(find_all_rows_with_n_consecutive_reps(arr=test_arr, x=2).shape)\n",
    "print(find_all_rows_with_n_consecutive_reps(arr=test_arr, x=3).shape)\n",
    "print(find_all_rows_with_n_consecutive_reps(arr=test_arr, x=4).shape)"
   ],
   "metadata": {
    "collapsed": false
   }
  },
  {
   "cell_type": "markdown",
   "source": [
    "For x in {2, 4, 20}, compute the mean number of rows returned for both \"find_all_rows_with_n_reps\" and \"find_all_rows_with_n_consecutive_reps\".\n",
    "Draw a new sample array each time you evaluate the number of rows.\n",
    "Select an appropriate sample size."
   ],
   "metadata": {
    "collapsed": false
   }
  },
  {
   "cell_type": "code",
   "execution_count": 36,
   "outputs": [],
   "source": [
    "res1 = dict()\n",
    "res2 = dict()\n",
    "for x in [2, 4, 20]:\n",
    "    res1[x] = []\n",
    "    res2[x] = []\n",
    "\n",
    "    for i in range(200):\n",
    "        test_arr = sample_test_arr()\n",
    "        n1 = find_all_rows_with_n_reps(arr=test_arr, x=x).shape[0]\n",
    "        n2 = find_all_rows_with_n_consecutive_reps(arr=test_arr, x=x).shape[0]\n",
    "        res1[x].append(n1)\n",
    "        res2[x].append(n2)"
   ],
   "metadata": {
    "collapsed": false
   }
  },
  {
   "cell_type": "code",
   "execution_count": 37,
   "outputs": [
    {
     "name": "stdout",
     "output_type": "stream",
     "text": [
      "2 50.0\n",
      "4 50.0\n",
      "20 0.405\n",
      "\n",
      "2 29.875\n",
      "4 0.36\n",
      "20 0.0\n",
      "\n"
     ]
    }
   ],
   "source": [
    "for res in [res1, res2]:\n",
    "    for x, cs in res.items():\n",
    "        print(x, np.mean(cs))\n",
    "    print()"
   ],
   "metadata": {
    "collapsed": false
   }
  },
  {
   "cell_type": "code",
   "execution_count": 37,
   "outputs": [],
   "source": [],
   "metadata": {
    "collapsed": false
   }
  }
 ],
 "metadata": {
  "kernelspec": {
   "display_name": "Python 3",
   "language": "python",
   "name": "python3"
  },
  "language_info": {
   "codemirror_mode": {
    "name": "ipython",
    "version": 2
   },
   "file_extension": ".py",
   "mimetype": "text/x-python",
   "name": "python",
   "nbconvert_exporter": "python",
   "pygments_lexer": "ipython2",
   "version": "2.7.6"
  }
 },
 "nbformat": 4,
 "nbformat_minor": 0
}
