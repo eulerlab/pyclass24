{
 "cells": [
  {
   "cell_type": "code",
   "execution_count": 1,
   "id": "1a3cc37a",
   "metadata": {},
   "outputs": [],
   "source": [
    "import os"
   ]
  },
  {
   "cell_type": "markdown",
   "id": "6ca98c86",
   "metadata": {},
   "source": [
    "### Tasks:\n",
    "1. start the game by run plantTreasure.py in this notebook\n",
    "2. implement your code either in a .py file or in this notebook to find the planted \"treasure\""
   ]
  },
  {
   "cell_type": "code",
   "execution_count": 2,
   "id": "08f606ac",
   "metadata": {},
   "outputs": [
    {
     "data": {
      "text/plain": [
       "'/Users/eulerlab/Github/python_course/day2_good_code/exercise_2'"
      ]
     },
     "execution_count": 2,
     "metadata": {},
     "output_type": "execute_result"
    }
   ],
   "source": [
    "pwd"
   ]
  },
  {
   "cell_type": "code",
   "execution_count": 3,
   "id": "93a653d3",
   "metadata": {},
   "outputs": [
    {
     "data": {
      "text/plain": [
       "['plantTreasure.py',\n",
       " 'solution',\n",
       " 'exercise_2.ipynb',\n",
       " '.ipynb_checkpoints',\n",
       " 'startFolder',\n",
       " 'exercise_2_solution.ipynb']"
      ]
     },
     "execution_count": 3,
     "metadata": {},
     "output_type": "execute_result"
    }
   ],
   "source": [
    "# first let's see if you have plantTreasure.py in the current working directory\n",
    "os.listdir('./')\n",
    "\n",
    "# you should see plantTreasure.py\n",
    "\n",
    "# if so: continue\n",
    "# else: seek help (in this case, Google is NOT your friend)"
   ]
  },
  {
   "cell_type": "markdown",
   "id": "5b814b5a",
   "metadata": {},
   "source": [
    "### Goals for task 1:\n",
    "#### a. use os.system() to run command as if it's running in the shell\n",
    "#### b. run plantTreasure.py in the notebook, start the \"game\""
   ]
  },
  {
   "cell_type": "code",
   "execution_count": 5,
   "id": "f83ddade",
   "metadata": {},
   "outputs": [
    {
     "name": "stdout",
     "output_type": "stream",
     "text": [
      "removed existing folder\n"
     ]
    },
    {
     "data": {
      "text/plain": [
       "0"
      ]
     },
     "execution_count": 5,
     "metadata": {},
     "output_type": "execute_result"
    }
   ],
   "source": [
    "# run this cell\n",
    "os.system(\"python3 plantTreasure.py\")"
   ]
  },
  {
   "cell_type": "code",
   "execution_count": 7,
   "id": "8b325507",
   "metadata": {},
   "outputs": [],
   "source": [
    "# you should see now a folder named \"startFolder\" was created"
   ]
  },
  {
   "cell_type": "code",
   "execution_count": 6,
   "id": "6856e7ff",
   "metadata": {},
   "outputs": [
    {
     "data": {
      "text/plain": [
       "['plantTreasure.py',\n",
       " 'solution',\n",
       " 'exercise_2.ipynb',\n",
       " '.ipynb_checkpoints',\n",
       " 'startFolder',\n",
       " 'exercise_2_solution.ipynb']"
      ]
     },
     "execution_count": 6,
     "metadata": {},
     "output_type": "execute_result"
    }
   ],
   "source": [
    "# see what happened\n",
    "os.listdir('./')"
   ]
  },
  {
   "cell_type": "markdown",
   "id": "59a72221",
   "metadata": {},
   "source": [
    "### Goals for task 2:\n",
    "#### a. use os.system() or other functions to see what is inside of the startFolder\n",
    "#### b. find out which folder under the \"startFolder\" contain the \"treasure\" (spoiler alert, it's a txt file named treasure.txt)"
   ]
  },
  {
   "cell_type": "markdown",
   "id": "2473b88b",
   "metadata": {},
   "source": [
    "#### tipps for task 2.a:\n",
    "    i. os.system(cmd_str), os.chdir(), os.getcwd(), etc can be helpful.\n",
    "    ii. use pwd to see where you are right now\n"
   ]
  },
  {
   "cell_type": "code",
   "execution_count": 8,
   "id": "295ef6cd",
   "metadata": {},
   "outputs": [
    {
     "data": {
      "text/plain": [
       "'/Users/eulerlab/Github/python_course/day2_good_code/exercise_2'"
      ]
     },
     "execution_count": 8,
     "metadata": {},
     "output_type": "execute_result"
    }
   ],
   "source": [
    "pwd"
   ]
  },
  {
   "cell_type": "code",
   "execution_count": 16,
   "id": "a95a0878",
   "metadata": {},
   "outputs": [
    {
     "data": {
      "text/plain": [
       "['Erica',\n",
       " 'Tyler',\n",
       " 'Jamie',\n",
       " 'Donald',\n",
       " 'Peter',\n",
       " 'Leah',\n",
       " 'Dominique',\n",
       " 'Chelsea',\n",
       " 'William',\n",
       " 'James',\n",
       " 'Anthony',\n",
       " 'Christopher',\n",
       " 'Lindsay',\n",
       " 'Renee',\n",
       " 'Kyle',\n",
       " 'Gary',\n",
       " 'Kimberly',\n",
       " 'Tracy',\n",
       " 'Kara',\n",
       " 'Marissa',\n",
       " 'Joseph',\n",
       " 'Jerry',\n",
       " 'Timothy',\n",
       " 'Carlos',\n",
       " 'Haley',\n",
       " 'Kelly',\n",
       " 'Jodi',\n",
       " 'Michael',\n",
       " 'Robert',\n",
       " 'Gina',\n",
       " 'Mark',\n",
       " 'Jessica',\n",
       " 'Carolyn',\n",
       " 'Melissa',\n",
       " 'Marc',\n",
       " 'Samuel',\n",
       " 'Nancy',\n",
       " 'Frank',\n",
       " 'Amanda',\n",
       " 'Jesse',\n",
       " 'Wanda',\n",
       " 'Sheila',\n",
       " 'Matthew',\n",
       " 'Charles',\n",
       " 'David',\n",
       " 'Katherine',\n",
       " 'Erin',\n",
       " 'Cassandra',\n",
       " 'Lisa',\n",
       " 'Aaron',\n",
       " 'Cynthia',\n",
       " 'Leslie',\n",
       " 'Jeffrey',\n",
       " 'John',\n",
       " 'Tiffany',\n",
       " 'Andre',\n",
       " 'Bianca',\n",
       " 'Brian',\n",
       " 'Danielle',\n",
       " 'Dawn',\n",
       " 'Samantha',\n",
       " 'Kevin',\n",
       " 'Ryan',\n",
       " 'Ashley',\n",
       " 'Erika',\n",
       " 'Tommy',\n",
       " 'Greg',\n",
       " 'Joshua',\n",
       " 'Ethan',\n",
       " 'Sarah']"
      ]
     },
     "execution_count": 16,
     "metadata": {},
     "output_type": "execute_result"
    }
   ],
   "source": [
    "# code to inspect the startFolder\n",
    "goal_directory = './startFolder/'\n",
    "os.listdir(goal_directory)"
   ]
  },
  {
   "cell_type": "markdown",
   "id": "12d59796",
   "metadata": {},
   "source": [
    "#### tipps for task 2.b:\n",
    "    i. click and open could work but there are more than 50 folders ...\n",
    "    ii. use a loop\n",
    "    iii. use os.listdir() to see what is inside a folder\n",
    "    iv. './' means current directory, '../' means the the parent directory (one up)"
   ]
  },
  {
   "cell_type": "code",
   "execution_count": null,
   "id": "6dbedc41",
   "metadata": {},
   "outputs": [],
   "source": [
    "# code to find where the treasure.txt file is"
   ]
  },
  {
   "cell_type": "code",
   "execution_count": 15,
   "id": "5ddc039e",
   "metadata": {},
   "outputs": [],
   "source": [
    "# use an external .py\n",
    "# os.system('python3 ./solution/treasureHunt.py')"
   ]
  },
  {
   "cell_type": "code",
   "execution_count": 23,
   "id": "bf3ae269",
   "metadata": {},
   "outputs": [],
   "source": [
    "# define a helper function to remove .DS_Store files created by MacOS\n",
    "def remove_ds_store(dir_path):\n",
    "    \"\"\"\n",
    "    Removes all .DS_Store files in the given directory and its subdirectories on macOS.\n",
    "    \"\"\"\n",
    "    for root, dirs, files in os.walk(dir_path):\n",
    "        for file in files:\n",
    "            if file == \".DS_Store\":\n",
    "                file_path = os.path.join(root, file)\n",
    "                os.remove(file_path)\n",
    "                print(f\"Removed file: {file_path}\")"
   ]
  },
  {
   "cell_type": "code",
   "execution_count": 25,
   "id": "e54e7061",
   "metadata": {},
   "outputs": [
    {
     "name": "stdout",
     "output_type": "stream",
     "text": [
      "start searching\n",
      "Better luck next time!\n",
      "Better luck next time!\n",
      "Better luck next time!\n",
      "Better luck next time!\n",
      "Better luck next time!\n",
      "Better luck next time!\n",
      "Better luck next time!\n",
      "Better luck next time!\n",
      "Better luck next time!\n",
      "Better luck next time!\n",
      "Better luck next time!\n",
      "Better luck next time!\n",
      "Better luck next time!\n",
      "Better luck next time!\n",
      "Better luck next time!\n",
      "Better luck next time!\n",
      "Better luck next time!\n",
      "Better luck next time!\n",
      "Better luck next time!\n",
      "Better luck next time!\n",
      "Better luck next time!\n",
      "Better luck next time!\n",
      "Better luck next time!\n",
      "Better luck next time!\n",
      "Better luck next time!\n",
      "Better luck next time!\n",
      "Better luck next time!\n",
      "Better luck next time!\n",
      "Better luck next time!\n",
      "Better luck next time!\n",
      "Better luck next time!\n",
      "Better luck next time!\n",
      "Better luck next time!\n",
      "Found it!\n",
      "In folder: ./startFolder/Melissa\n"
     ]
    }
   ],
   "source": [
    "# or implement the code in the cell\n",
    "\n",
    "# find startFolder\n",
    "if \"startFolder\" in os.listdir('./'):\n",
    "    print(\"start searching\")\n",
    "    # rm MacOS-product trash file\n",
    "    remove_ds_store('./')\n",
    "    # concatenate paths to each namefolder\n",
    "    allnameFolders = ['./startFolder/' + each for each in os.listdir(\"./startFolder/\")]\n",
    "\n",
    "    for folder in allnameFolders:\n",
    "        numFound = len(os.listdir(folder))\n",
    "        if numFound == 1:\n",
    "            treasure = os.listdir(folder)[0]\n",
    "            if treasure == 'treasure.txt':\n",
    "                print(\"Found it!\\nIn folder: \" + folder)\n",
    "                break\n",
    "            else:\n",
    "                print(\"hey what is it??\", treasure)\n",
    "        elif numFound > 1:\n",
    "            print(\"Hey what is it??\", os.listdir(folder))\n",
    "        else:\n",
    "            print(\"Better luck next time!\")\n",
    "else:\n",
    "    print(\"No starting folder in the current directory\")\n",
    "    print(\"Run 'python3 plantTreasure.py' in the shell first.\\nOr, start the search in a different directory.\")"
   ]
  },
  {
   "cell_type": "code",
   "execution_count": null,
   "id": "32da95df",
   "metadata": {},
   "outputs": [],
   "source": []
  }
 ],
 "metadata": {
  "kernelspec": {
   "display_name": "Python 3 (ipykernel)",
   "language": "python",
   "name": "python3"
  },
  "language_info": {
   "codemirror_mode": {
    "name": "ipython",
    "version": 3
   },
   "file_extension": ".py",
   "mimetype": "text/x-python",
   "name": "python",
   "nbconvert_exporter": "python",
   "pygments_lexer": "ipython3",
   "version": "3.10.9"
  }
 },
 "nbformat": 4,
 "nbformat_minor": 5
}
