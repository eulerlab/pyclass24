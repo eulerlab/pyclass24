{
 "cells": [
  {
   "cell_type": "code",
   "execution_count": 1,
   "id": "d3dc4f60",
   "metadata": {},
   "outputs": [],
   "source": [
    "import os"
   ]
  },
  {
   "cell_type": "markdown",
   "id": "320c3b13",
   "metadata": {},
   "source": [
    "Instruction:\n",
    "\n",
    "1. Use this notebook to navigate to the treasure.txt file that was found in exercise_1\n",
    "\n",
    "2. read the treasure.txt, use print(f.read())\n",
    "\n",
    "3. write your answer, use f.write()"
   ]
  },
  {
   "cell_type": "markdown",
   "id": "4bb7f87f",
   "metadata": {},
   "source": [
    "#### tipps:\n",
    "1. 'pwd' will tell you the current working directory\n",
    "2. os.chdir(new_path) can change the current working \n",
    "3. os.system(str_shell_cmd) can execute shell command (e.g. os.system('ls') == use 'ls' in the shell)\n",
    "4. the absolute path can be very long, './' and '../' can be helpful sometimes\n",
    "5. f.write('\\n') changes to a new line"
   ]
  },
  {
   "cell_type": "code",
   "execution_count": 7,
   "id": "87c46253",
   "metadata": {},
   "outputs": [],
   "source": [
    "os.chdir(\"./\")"
   ]
  },
  {
   "cell_type": "code",
   "execution_count": 12,
   "id": "4dbdc6f5",
   "metadata": {},
   "outputs": [],
   "source": [
    "goal_directory = \"/Users/eulerlab/Github/python_course/day2_good_code/exercise_2/\"\n",
    "os.chdir(goal_directory)"
   ]
  },
  {
   "cell_type": "markdown",
   "id": "06efde15",
   "metadata": {},
   "source": [
    "### where are you at right now"
   ]
  },
  {
   "cell_type": "code",
   "execution_count": 13,
   "id": "28b6d26f",
   "metadata": {
    "scrolled": true
   },
   "outputs": [
    {
     "data": {
      "text/plain": [
       "'/Users/eulerlab/Github/python_course/day2_good_code/exercise_2'"
      ]
     },
     "execution_count": 13,
     "metadata": {},
     "output_type": "execute_result"
    }
   ],
   "source": [
    "pwd"
   ]
  },
  {
   "cell_type": "code",
   "execution_count": 15,
   "id": "fa32513a",
   "metadata": {},
   "outputs": [
    {
     "name": "stdout",
     "output_type": "stream",
     "text": [
      "start searching\n",
      "Removed file: /Users/eulerlab/Github/python_course/day2_good_code/exercise_2/.DS_Store\n",
      "Better luck next time!\n",
      "Better luck next time!\n",
      "Better luck next time!\n",
      "Better luck next time!\n",
      "Better luck next time!\n",
      "Better luck next time!\n",
      "Better luck next time!\n",
      "Better luck next time!\n",
      "Better luck next time!\n",
      "Better luck next time!\n",
      "Better luck next time!\n",
      "Better luck next time!\n",
      "Better luck next time!\n",
      "Better luck next time!\n",
      "Better luck next time!\n",
      "Better luck next time!\n",
      "Better luck next time!\n",
      "Better luck next time!\n",
      "Better luck next time!\n",
      "Better luck next time!\n",
      "Better luck next time!\n",
      "Better luck next time!\n",
      "Better luck next time!\n",
      "Better luck next time!\n",
      "Better luck next time!\n",
      "Better luck next time!\n",
      "Better luck next time!\n",
      "Better luck next time!\n",
      "Better luck next time!\n",
      "Better luck next time!\n",
      "Better luck next time!\n",
      "Found it!\n",
      "In folder: /Users/eulerlab/Github/python_course/day2_good_code/exercise_2/startFolder/Jessica\n"
     ]
    },
    {
     "data": {
      "text/plain": [
       "0"
      ]
     },
     "execution_count": 15,
     "metadata": {},
     "output_type": "execute_result"
    }
   ],
   "source": [
    "os.system('python3 ./solution/treasureHunt.py')"
   ]
  },
  {
   "cell_type": "markdown",
   "id": "5ba13d6e",
   "metadata": {},
   "source": [
    "### change the current working directory if needed"
   ]
  },
  {
   "cell_type": "code",
   "execution_count": 16,
   "id": "ceddc0e7",
   "metadata": {},
   "outputs": [],
   "source": [
    "goal_directory = \"/Users/eulerlab/Github/python_course/day2_good_code/exercise_2/startFolder/Jessica/\"\n",
    "os.chdir(goal_directory)"
   ]
  },
  {
   "cell_type": "code",
   "execution_count": 17,
   "id": "3aa3ad76",
   "metadata": {},
   "outputs": [
    {
     "data": {
      "text/plain": [
       "'/Users/eulerlab/Github/python_course/day2_good_code/exercise_2/startFolder/Jessica'"
      ]
     },
     "execution_count": 17,
     "metadata": {},
     "output_type": "execute_result"
    }
   ],
   "source": [
    "pwd"
   ]
  },
  {
   "cell_type": "markdown",
   "id": "433dea00",
   "metadata": {},
   "source": [
    "#### tipps - file handling keyword\n",
    "\"r\":Read, default value, opens a file for reading, ERROR if the file doesn't exist\n",
    "\n",
    "\"r+\":Read and overwrite, opens a file for reading, ERROR if the file doesn't exist??->test\n",
    "\n",
    "\"a\":Append, opens a file for appending, CREATES if the file doesn't exist\n",
    "\n",
    "\"a+\":Append and read data from the file. It won’t override existing data, the file pointer sits at the end of the file\n",
    "\n",
    "\"w\":(over)Write, opens a file for writing anew, CREATES if the file doesn't exist\n",
    "\n",
    "\"w+\": To write and read data. It will override existing data.\n",
    "\n",
    "\"x\":Create, CREATES the specified file, ERROR if the file exists."
   ]
  },
  {
   "cell_type": "markdown",
   "id": "a70b7825",
   "metadata": {},
   "source": [
    "### read the treasure.txt"
   ]
  },
  {
   "cell_type": "code",
   "execution_count": 20,
   "id": "ab63ec86",
   "metadata": {},
   "outputs": [],
   "source": [
    "f = open('./treasure.txt','r')"
   ]
  },
  {
   "cell_type": "code",
   "execution_count": 21,
   "id": "04e4e7af",
   "metadata": {},
   "outputs": [
    {
     "data": {
      "text/plain": [
       "'Q1:\\nProduct A and product B cost together 110 Euro, and A is 100 Euro more expensive than B.\\nHow much does B cost?\\nQ2:\\nIf you were to divide a gigantic research funding among vision, auditory, olfaction, gustation and haptic science, how many percent of it would you give to vision?'"
      ]
     },
     "execution_count": 21,
     "metadata": {},
     "output_type": "execute_result"
    }
   ],
   "source": [
    "f.read()"
   ]
  },
  {
   "cell_type": "code",
   "execution_count": 22,
   "id": "e4b51767",
   "metadata": {},
   "outputs": [],
   "source": [
    "f.close()"
   ]
  },
  {
   "cell_type": "markdown",
   "id": "5cfe329f",
   "metadata": {},
   "source": [
    "### write your answer in a new line (3rd)"
   ]
  },
  {
   "cell_type": "code",
   "execution_count": 23,
   "id": "43bf2a90",
   "metadata": {},
   "outputs": [],
   "source": [
    "f = open('./treasure.txt','a')\n",
    "f.write(\"Q1:__;Q2:__;\")\n",
    "f.close()"
   ]
  },
  {
   "cell_type": "markdown",
   "id": "70508b5e",
   "metadata": {},
   "source": [
    "#### check if your answer is actually written down in the treasure.txt file, however you want."
   ]
  },
  {
   "cell_type": "code",
   "execution_count": 24,
   "id": "62747bd9",
   "metadata": {},
   "outputs": [],
   "source": [
    "f = open('./treasure.txt','r')"
   ]
  },
  {
   "cell_type": "code",
   "execution_count": 25,
   "id": "91052090",
   "metadata": {},
   "outputs": [
    {
     "data": {
      "text/plain": [
       "'Q1:\\nProduct A and product B cost together 110 Euro, and A is 100 Euro more expensive than B.\\nHow much does B cost?\\nQ2:\\nIf you were to divide a gigantic research funding among vision, auditory, olfaction, gustation and haptic science, how many percent of it would you give to vision?Q1:__;Q2:__;'"
      ]
     },
     "execution_count": 25,
     "metadata": {},
     "output_type": "execute_result"
    }
   ],
   "source": [
    "f.read()"
   ]
  },
  {
   "cell_type": "code",
   "execution_count": 26,
   "id": "de87967f",
   "metadata": {},
   "outputs": [],
   "source": [
    "f.close()"
   ]
  },
  {
   "cell_type": "code",
   "execution_count": null,
   "id": "696bb0e2",
   "metadata": {},
   "outputs": [],
   "source": []
  }
 ],
 "metadata": {
  "kernelspec": {
   "display_name": "Python 3 (ipykernel)",
   "language": "python",
   "name": "python3"
  },
  "language_info": {
   "codemirror_mode": {
    "name": "ipython",
    "version": 3
   },
   "file_extension": ".py",
   "mimetype": "text/x-python",
   "name": "python",
   "nbconvert_exporter": "python",
   "pygments_lexer": "ipython3",
   "version": "3.10.9"
  }
 },
 "nbformat": 4,
 "nbformat_minor": 5
}
