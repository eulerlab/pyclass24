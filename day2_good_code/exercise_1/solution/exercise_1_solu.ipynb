{
 "cells": [
  {
   "cell_type": "markdown",
   "id": "94b26fd6",
   "metadata": {},
   "source": [
    "### Tasks:\n",
    "#### 1. implement functions in 3 different .py file\n",
    "#### 2. load the functions in those 3 .py file into this notebook\n",
    "#### 3. use loaded functions\n"
   ]
  },
  {
   "cell_type": "markdown",
   "id": "04e24156",
   "metadata": {},
   "source": [
    "### Goals for task 1:\n",
    "#### a. one .py file including a funciton that generates at least 50 random unique integers, return them in a list\n",
    "        e.g. print(func1()), should print [1,3,4,5,6,....]\n",
    "#### b. one .py file including a function that takes one integer as input and a Boolean value as output. True: the input number is a prime number, False: the input number is not a prime\n",
    "        e.g. print(func2(11)), should print True ; print(func2(14)), will print False\n",
    "#### c. one .py file including a function that take one integer as input and calculates the digit sum of it, returns the digit sum.\n",
    "        e.g. print(func3(234)),should print 9\n"
   ]
  },
  {
   "cell_type": "code",
   "execution_count": 4,
   "id": "86d2f592",
   "metadata": {},
   "outputs": [],
   "source": [
    "### You should find 3 .py file in the exercise_1/ folder\n",
    "### almost empty, for you to fill out the logic"
   ]
  },
  {
   "cell_type": "code",
   "execution_count": 7,
   "id": "42c46d64",
   "metadata": {},
   "outputs": [],
   "source": [
    "import os"
   ]
  },
  {
   "cell_type": "code",
   "execution_count": 9,
   "id": "e4660209",
   "metadata": {
    "scrolled": true
   },
   "outputs": [
    {
     "data": {
      "text/plain": [
       "['.DS_Store',\n",
       " 'digit_sum.py',\n",
       " 'prime_finder.py',\n",
       " 'exercise_1_function_encapsulation.ipynb',\n",
       " 'solution',\n",
       " '__pycache__',\n",
       " 'num_generator.py',\n",
       " '.ipynb_checkpoints']"
      ]
     },
     "execution_count": 9,
     "metadata": {},
     "output_type": "execute_result"
    }
   ],
   "source": [
    "# after running this cell\n",
    "# you should see digit_sum.py, prime_finder.py and num_generator.py in the print-out\n",
    "os.listdir('./')\n",
    "\n",
    "# if so: start implementing\n",
    "# else: seek help (in this case, Google is NOT your friend)"
   ]
  },
  {
   "cell_type": "markdown",
   "id": "1ab941e2",
   "metadata": {},
   "source": [
    "### Once all three (or more) functions are implemented, time to test them in the notebook"
   ]
  },
  {
   "cell_type": "markdown",
   "id": "2b368a9f",
   "metadata": {},
   "source": [
    "### Goals for task 2:\n",
    "#### a. load the functions into this notebook and\n",
    "tipps: Google \"how to load .py files in jupyternotebook\", the keyword is \"load\"\n",
    "#### b. call the loaded functions and that will produce reasonable output (see example above in 'Goals for task 1')"
   ]
  },
  {
   "cell_type": "code",
   "execution_count": 10,
   "id": "34c7bde2",
   "metadata": {},
   "outputs": [],
   "source": [
    "# code to load & import\n"
   ]
  },
  {
   "cell_type": "code",
   "execution_count": 11,
   "id": "a9b63574",
   "metadata": {},
   "outputs": [],
   "source": [
    "# code to test the functions\n"
   ]
  },
  {
   "cell_type": "markdown",
   "id": "0ea2b5d0",
   "metadata": {},
   "source": [
    "### Goal for task 3: use the loaded functions to\n",
    "#### a. generate a list of 50 random unique integers\n",
    "#### b. extract the prime numbers out of these 50 integer \n",
    "#### c. sort the extracted prime number according to their digit sum, small->big."
   ]
  },
  {
   "cell_type": "markdown",
   "id": "3d93d255",
   "metadata": {},
   "source": [
    "#### tipps: \n",
    "1. Have you heard sort() function? \n",
    "2. How about lambda sorting?"
   ]
  },
  {
   "cell_type": "code",
   "execution_count": 9,
   "id": "d5171e59",
   "metadata": {},
   "outputs": [],
   "source": [
    "%load_ext autoreload\n",
    "%autoreload 2\n",
    "\n",
    "from num_generator import num_generator"
   ]
  },
  {
   "cell_type": "markdown",
   "id": "84cb3073",
   "metadata": {},
   "source": [
    "### generate a list of random number"
   ]
  },
  {
   "cell_type": "code",
   "execution_count": 10,
   "id": "d86fb4fc",
   "metadata": {},
   "outputs": [],
   "source": [
    "toSort = num_generator()"
   ]
  },
  {
   "cell_type": "code",
   "execution_count": 11,
   "id": "f38ae732",
   "metadata": {},
   "outputs": [
    {
     "data": {
      "text/plain": [
       "50"
      ]
     },
     "execution_count": 11,
     "metadata": {},
     "output_type": "execute_result"
    }
   ],
   "source": [
    "len(toSort)"
   ]
  },
  {
   "cell_type": "markdown",
   "id": "4ce87b0c",
   "metadata": {},
   "source": [
    "#### take a look at the .py file inside"
   ]
  },
  {
   "cell_type": "code",
   "execution_count": 12,
   "id": "36cc5db8",
   "metadata": {},
   "outputs": [],
   "source": [
    "# %load num_generator.py\n",
    "from numpy import random\n",
    "\n",
    "def num_generator(seedNum=random.randint(100),numRand=50,maxNum=100):\n",
    "\n",
    "\trandom.seed(seedNum)\n",
    "\toutput =random.randint(100, size=(numRand))\n",
    "\n",
    "\treturn list(output)"
   ]
  },
  {
   "cell_type": "code",
   "execution_count": 13,
   "id": "68db2565",
   "metadata": {},
   "outputs": [
    {
     "data": {
      "text/plain": [
       "55"
      ]
     },
     "execution_count": 13,
     "metadata": {},
     "output_type": "execute_result"
    }
   ],
   "source": [
    "toSort = num_generator(1000,55,200);len(toSort)"
   ]
  },
  {
   "cell_type": "markdown",
   "id": "e11051d7",
   "metadata": {},
   "source": [
    "### load prime_finder.py"
   ]
  },
  {
   "cell_type": "code",
   "execution_count": 14,
   "id": "432adacd",
   "metadata": {},
   "outputs": [],
   "source": [
    "from prime_finder import miller_rabin_prime_test\n",
    "from prime_finder import fermat_prime_2"
   ]
  },
  {
   "cell_type": "markdown",
   "id": "9837d17a",
   "metadata": {},
   "source": [
    "#### cast numpy.int64 back to int"
   ]
  },
  {
   "cell_type": "code",
   "execution_count": 15,
   "id": "ac7fb694",
   "metadata": {},
   "outputs": [],
   "source": [
    "toSort = [int(each) for each in toSort]"
   ]
  },
  {
   "cell_type": "markdown",
   "id": "16abe12a",
   "metadata": {},
   "source": [
    "#### loop through the generated integer-list "
   ]
  },
  {
   "cell_type": "markdown",
   "id": "fb4f46ff",
   "metadata": {},
   "source": [
    "#### Miller-Rabin Test"
   ]
  },
  {
   "cell_type": "code",
   "execution_count": 44,
   "id": "a43b84bb",
   "metadata": {},
   "outputs": [
    {
     "name": "stdout",
     "output_type": "stream",
     "text": [
      "Upon using Miller-Rabin prime test:\n",
      "Prime numbers in the toSort list are:\n",
      "[71, 61, 89, 41, 61, 11, 7, 43, 59, 31] 10\n"
     ]
    }
   ],
   "source": [
    "primes = []\n",
    "for num in toSort:\n",
    "    if num > 1:\n",
    "        if miller_rabin_prime_test(num):\n",
    "            primes.append(num)\n",
    "            \n",
    "print(\"Upon using Miller-Rabin prime test:\")\n",
    "print(\"Prime numbers in the toSort list are:\")\n",
    "print(primes,len(primes)) "
   ]
  },
  {
   "cell_type": "markdown",
   "id": "11dc6e17",
   "metadata": {},
   "source": [
    "#### Fermat Test"
   ]
  },
  {
   "cell_type": "code",
   "execution_count": 37,
   "id": "e7484951",
   "metadata": {},
   "outputs": [
    {
     "name": "stdout",
     "output_type": "stream",
     "text": [
      "Upon using one fermat prime test:\n",
      "Prime numbers in the toSort list are:\n",
      "[71, 61, 89, 41, 28, 61, 69, 76, 11, 52, 7, 43, 59, 31] 14\n"
     ]
    }
   ],
   "source": [
    "primes = []\n",
    "for num in toSort:\n",
    "    if num > 1:\n",
    "        if fermat_prime_2(num):\n",
    "            primes.append(num)\n",
    "            \n",
    "print(\"Upon using one fermat prime test:\")\n",
    "print(\"Prime numbers in the toSort list are:\")\n",
    "print(primes,len(primes)) "
   ]
  },
  {
   "cell_type": "markdown",
   "id": "840ae390",
   "metadata": {},
   "source": [
    "### load digit_sum() func"
   ]
  },
  {
   "cell_type": "code",
   "execution_count": 41,
   "id": "ccd47495",
   "metadata": {},
   "outputs": [],
   "source": [
    "from digit_sum import digit_sum"
   ]
  },
  {
   "cell_type": "markdown",
   "id": "77b1a885",
   "metadata": {},
   "source": [
    "#### use lambda-sorting "
   ]
  },
  {
   "cell_type": "code",
   "execution_count": 45,
   "id": "517ad1db",
   "metadata": {},
   "outputs": [
    {
     "name": "stdout",
     "output_type": "stream",
     "text": [
      "[11, 31, 41, 61, 61, 7, 43, 71, 59, 89]\n"
     ]
    }
   ],
   "source": [
    "primes.sort(key=lambda x:digit_sum(x))\n",
    "print(primes)"
   ]
  },
  {
   "cell_type": "code",
   "execution_count": 43,
   "id": "6593e7a1",
   "metadata": {},
   "outputs": [
    {
     "name": "stdout",
     "output_type": "stream",
     "text": [
      "[7, 11, 31, 41, 43, 59, 61, 61, 71, 89]\n"
     ]
    }
   ],
   "source": [
    "primes.sort(key=lambda x:x)\n",
    "print(primes)"
   ]
  },
  {
   "cell_type": "markdown",
   "id": "f5ecc878",
   "metadata": {},
   "source": [
    "### example for lambda-sorting"
   ]
  },
  {
   "cell_type": "code",
   "execution_count": 66,
   "id": "0a0b3e0e",
   "metadata": {},
   "outputs": [],
   "source": [
    "test = [(2,3,4),(1,2,3),(4,10,1)]\n",
    "test.sort(key=lambda x:x[1])\n",
    "test"
   ]
  },
  {
   "cell_type": "markdown",
   "id": "ec6a0a21",
   "metadata": {},
   "source": [
    "#### sort() by default"
   ]
  },
  {
   "cell_type": "code",
   "execution_count": 68,
   "id": "419557b9",
   "metadata": {},
   "outputs": [
    {
     "data": {
      "text/plain": [
       "[(2, 3, 4), (1, 2, 3), (4, 10, 1)]"
      ]
     },
     "execution_count": 68,
     "metadata": {},
     "output_type": "execute_result"
    }
   ],
   "source": [
    "test = [(2,3,4),(1,2,3),(4,10,1)]\n",
    "test.sort()\n",
    "test"
   ]
  }
 ],
 "metadata": {
  "kernelspec": {
   "display_name": "Python 3 (ipykernel)",
   "language": "python",
   "name": "python3"
  },
  "language_info": {
   "codemirror_mode": {
    "name": "ipython",
    "version": 3
   },
   "file_extension": ".py",
   "mimetype": "text/x-python",
   "name": "python",
   "nbconvert_exporter": "python",
   "pygments_lexer": "ipython3",
   "version": "3.10.9"
  }
 },
 "nbformat": 4,
 "nbformat_minor": 5
}
